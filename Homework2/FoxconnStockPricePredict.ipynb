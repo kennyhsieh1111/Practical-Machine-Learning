{
 "cells": [
  {
   "cell_type": "markdown",
   "metadata": {},
   "source": [
    "# The Stock Price Relationship between Apple Inc. and Foxconn\n",
    "B036060017 資管系四年級 謝威廷, 2018/3/31 \n",
    "\n",
    "## Introduction\n",
    "主要是預測鴻海的收盤價的漲跌，輸入的資料沒限定，可以是之前的蘋果公司和鴻海股票的任何資訊(如開盤價,收盤價,成交量...)\n",
    "1. Data Preprocessing\n"
   ]
  },
  {
   "cell_type": "markdown",
   "metadata": {},
   "source": [
    "## 1. Data Preprocessing\n",
    "- Load the Apple and Foxconn stock dataset.\n",
    "- Preprocess the `Date` and `Volume` column.\n",
    "    - Format `Date` to datetime\n",
    "    - Adjust `Volume` of Apple and Foxconn to same units\n",
    "- Remove the outlier in foxconn dataset.\n",
    "- Align the datetime, and combine above two input source into one dataset.\n",
    "\n",
    "### 1.1 Apple Stock"
   ]
  },
  {
   "cell_type": "code",
   "execution_count": 1,
   "metadata": {
    "collapsed": true
   },
   "outputs": [],
   "source": [
    "import warnings\n",
    "warnings.filterwarnings('ignore')\n",
    "\n",
    "import pandas as pd\n",
    "import numpy as np\n",
    "import matplotlib.pyplot as plt\n",
    "import seaborn as sns\n",
    "%matplotlib inline"
   ]
  },
  {
   "cell_type": "code",
   "execution_count": 2,
   "metadata": {
    "collapsed": true
   },
   "outputs": [],
   "source": [
    "colnames = ['Date', 'Open_A', 'High_A', 'Low_A', 'Close_A', 'Volume_A']\n",
    "\n",
    "apple = pd.read_csv('apple.csv', encoding = 'utf-8', parse_dates=True)\n",
    "apple.columns = colnames\n",
    "apple['Date'] = pd.to_datetime(apple['Date'], format = '%Y/%m/%d')"
   ]
  },
  {
   "cell_type": "code",
   "execution_count": 3,
   "metadata": {},
   "outputs": [
    {
     "name": "stdout",
     "output_type": "stream",
     "text": [
      "Apple Stock :  (6926, 6)\n"
     ]
    },
    {
     "data": {
      "text/html": [
       "<div>\n",
       "<style>\n",
       "    .dataframe thead tr:only-child th {\n",
       "        text-align: right;\n",
       "    }\n",
       "\n",
       "    .dataframe thead th {\n",
       "        text-align: left;\n",
       "    }\n",
       "\n",
       "    .dataframe tbody tr th {\n",
       "        vertical-align: top;\n",
       "    }\n",
       "</style>\n",
       "<table border=\"1\" class=\"dataframe\">\n",
       "  <thead>\n",
       "    <tr style=\"text-align: right;\">\n",
       "      <th></th>\n",
       "      <th>Date</th>\n",
       "      <th>Open_A</th>\n",
       "      <th>High_A</th>\n",
       "      <th>Low_A</th>\n",
       "      <th>Close_A</th>\n",
       "      <th>Volume_A</th>\n",
       "    </tr>\n",
       "  </thead>\n",
       "  <tbody>\n",
       "    <tr>\n",
       "      <th>0</th>\n",
       "      <td>1990-01-02</td>\n",
       "      <td>1.3304</td>\n",
       "      <td>1.3393</td>\n",
       "      <td>1.2500</td>\n",
       "      <td>1.3304</td>\n",
       "      <td>4580000000</td>\n",
       "    </tr>\n",
       "    <tr>\n",
       "      <th>1</th>\n",
       "      <td>1990-01-03</td>\n",
       "      <td>1.3393</td>\n",
       "      <td>1.3571</td>\n",
       "      <td>1.3393</td>\n",
       "      <td>1.3393</td>\n",
       "      <td>5200000000</td>\n",
       "    </tr>\n",
       "    <tr>\n",
       "      <th>2</th>\n",
       "      <td>1990-01-04</td>\n",
       "      <td>1.3437</td>\n",
       "      <td>1.3839</td>\n",
       "      <td>1.3304</td>\n",
       "      <td>1.3437</td>\n",
       "      <td>5538000000</td>\n",
       "    </tr>\n",
       "    <tr>\n",
       "      <th>3</th>\n",
       "      <td>1990-01-05</td>\n",
       "      <td>1.3482</td>\n",
       "      <td>1.3661</td>\n",
       "      <td>1.3214</td>\n",
       "      <td>1.3482</td>\n",
       "      <td>3083000000</td>\n",
       "    </tr>\n",
       "    <tr>\n",
       "      <th>4</th>\n",
       "      <td>1990-01-08</td>\n",
       "      <td>1.3571</td>\n",
       "      <td>1.3571</td>\n",
       "      <td>1.3214</td>\n",
       "      <td>1.3571</td>\n",
       "      <td>2539000000</td>\n",
       "    </tr>\n",
       "  </tbody>\n",
       "</table>\n",
       "</div>"
      ],
      "text/plain": [
       "        Date  Open_A  High_A   Low_A  Close_A    Volume_A\n",
       "0 1990-01-02  1.3304  1.3393  1.2500   1.3304  4580000000\n",
       "1 1990-01-03  1.3393  1.3571  1.3393   1.3393  5200000000\n",
       "2 1990-01-04  1.3437  1.3839  1.3304   1.3437  5538000000\n",
       "3 1990-01-05  1.3482  1.3661  1.3214   1.3482  3083000000\n",
       "4 1990-01-08  1.3571  1.3571  1.3214   1.3571  2539000000"
      ]
     },
     "execution_count": 3,
     "metadata": {},
     "output_type": "execute_result"
    }
   ],
   "source": [
    "import re\n",
    "\n",
    "volume_list = []\n",
    "\n",
    "# Convert million and million to actual number \n",
    "pattern = re.compile(\".*[B]\")\n",
    "for i in apple['Volume_A'].values:\n",
    "    if pattern.match(i):\n",
    "        i = i.replace(r'.', '').replace(r'B', '00000000')\n",
    "        volume_list.append(i)\n",
    "    else:\n",
    "        i = i.replace(r'.', '').replace(r'M', '000000')\n",
    "        volume_list.append(i)\n",
    "\n",
    "apple['Volume_A'] = volume_list\n",
    "\n",
    "print(\"Apple Stock : \", apple.shape)\n",
    "apple.head()"
   ]
  },
  {
   "cell_type": "markdown",
   "metadata": {},
   "source": [
    "### 1.2 Foxconn Stock"
   ]
  },
  {
   "cell_type": "code",
   "execution_count": 4,
   "metadata": {},
   "outputs": [
    {
     "name": "stdout",
     "output_type": "stream",
     "text": [
      "Foxconn Stock :  (6751, 6)\n"
     ]
    },
    {
     "data": {
      "text/html": [
       "<div>\n",
       "<style>\n",
       "    .dataframe thead tr:only-child th {\n",
       "        text-align: right;\n",
       "    }\n",
       "\n",
       "    .dataframe thead th {\n",
       "        text-align: left;\n",
       "    }\n",
       "\n",
       "    .dataframe tbody tr th {\n",
       "        vertical-align: top;\n",
       "    }\n",
       "</style>\n",
       "<table border=\"1\" class=\"dataframe\">\n",
       "  <thead>\n",
       "    <tr style=\"text-align: right;\">\n",
       "      <th></th>\n",
       "      <th>Date</th>\n",
       "      <th>Open_F</th>\n",
       "      <th>High_F</th>\n",
       "      <th>Low_F</th>\n",
       "      <th>Close_F</th>\n",
       "      <th>Volume_F</th>\n",
       "    </tr>\n",
       "  </thead>\n",
       "  <tbody>\n",
       "    <tr>\n",
       "      <th>10</th>\n",
       "      <td>1991-06-29</td>\n",
       "      <td>85.5</td>\n",
       "      <td>85.5</td>\n",
       "      <td>85.5</td>\n",
       "      <td>85.5</td>\n",
       "      <td>2221</td>\n",
       "    </tr>\n",
       "    <tr>\n",
       "      <th>11</th>\n",
       "      <td>1991-07-02</td>\n",
       "      <td>89.0</td>\n",
       "      <td>89.0</td>\n",
       "      <td>82.5</td>\n",
       "      <td>82.5</td>\n",
       "      <td>2670</td>\n",
       "    </tr>\n",
       "    <tr>\n",
       "      <th>12</th>\n",
       "      <td>1991-07-03</td>\n",
       "      <td>82.0</td>\n",
       "      <td>82.5</td>\n",
       "      <td>80.0</td>\n",
       "      <td>82.0</td>\n",
       "      <td>1298</td>\n",
       "    </tr>\n",
       "    <tr>\n",
       "      <th>13</th>\n",
       "      <td>1991-07-04</td>\n",
       "      <td>80.5</td>\n",
       "      <td>87.5</td>\n",
       "      <td>80.5</td>\n",
       "      <td>87.5</td>\n",
       "      <td>1880</td>\n",
       "    </tr>\n",
       "    <tr>\n",
       "      <th>14</th>\n",
       "      <td>1991-07-05</td>\n",
       "      <td>88.0</td>\n",
       "      <td>89.0</td>\n",
       "      <td>85.0</td>\n",
       "      <td>88.0</td>\n",
       "      <td>2475</td>\n",
       "    </tr>\n",
       "  </tbody>\n",
       "</table>\n",
       "</div>"
      ],
      "text/plain": [
       "         Date  Open_F  High_F  Low_F  Close_F  Volume_F\n",
       "10 1991-06-29    85.5    85.5   85.5     85.5      2221\n",
       "11 1991-07-02    89.0    89.0   82.5     82.5      2670\n",
       "12 1991-07-03    82.0    82.5   80.0     82.0      1298\n",
       "13 1991-07-04    80.5    87.5   80.5     87.5      1880\n",
       "14 1991-07-05    88.0    89.0   85.0     88.0      2475"
      ]
     },
     "execution_count": 4,
     "metadata": {},
     "output_type": "execute_result"
    }
   ],
   "source": [
    "colnames = ['Date', 'Open_F', 'High_F', 'Low_F', 'Close_F', 'Volume_F']\n",
    "\n",
    "foxconn = pd.read_csv('foxconn.csv', encoding = 'utf-8', parse_dates=True)\n",
    "foxconn.columns = colnames\n",
    "foxconn['Date'] = pd.to_datetime(foxconn['Date'], format = '%Y/%m/%d')\n",
    "\n",
    "# Drop out the first 10 row, because the volume seems weird\n",
    "foxconn = foxconn.drop(foxconn.index[0:10])\n",
    "print(\"Foxconn Stock : \", foxconn.shape)\n",
    "foxconn.head()"
   ]
  },
  {
   "cell_type": "markdown",
   "metadata": {},
   "source": [
    "### 1.3 Combine Dataset\n",
    "- Taiwan stock market is influenced by the last day of US stock market\n",
    "- In order to combine two different stock data, needs to minus US stock datetime by one day.\n",
    "- Last, only left 4993 valid row data after data preprocessing stage."
   ]
  },
  {
   "cell_type": "code",
   "execution_count": 5,
   "metadata": {},
   "outputs": [
    {
     "name": "stdout",
     "output_type": "stream",
     "text": [
      "Stock size after merge :  (4993, 12)\n"
     ]
    },
    {
     "data": {
      "text/html": [
       "<div>\n",
       "<style>\n",
       "    .dataframe thead tr:only-child th {\n",
       "        text-align: right;\n",
       "    }\n",
       "\n",
       "    .dataframe thead th {\n",
       "        text-align: left;\n",
       "    }\n",
       "\n",
       "    .dataframe tbody tr th {\n",
       "        vertical-align: top;\n",
       "    }\n",
       "</style>\n",
       "<table border=\"1\" class=\"dataframe\">\n",
       "  <thead>\n",
       "    <tr style=\"text-align: right;\">\n",
       "      <th></th>\n",
       "      <th>Date</th>\n",
       "      <th>Open_A</th>\n",
       "      <th>High_A</th>\n",
       "      <th>Low_A</th>\n",
       "      <th>Close_A</th>\n",
       "      <th>Volume_A</th>\n",
       "      <th>Open_F</th>\n",
       "      <th>High_F</th>\n",
       "      <th>Low_F</th>\n",
       "      <th>Close_F</th>\n",
       "      <th>Volume_F</th>\n",
       "      <th>_merge</th>\n",
       "    </tr>\n",
       "  </thead>\n",
       "  <tbody>\n",
       "    <tr>\n",
       "      <th>0</th>\n",
       "      <td>1991-07-02</td>\n",
       "      <td>1.5402</td>\n",
       "      <td>1.5536</td>\n",
       "      <td>1.4911</td>\n",
       "      <td>1.5402</td>\n",
       "      <td>7619000000</td>\n",
       "      <td>89.0</td>\n",
       "      <td>89.0</td>\n",
       "      <td>82.5</td>\n",
       "      <td>82.5</td>\n",
       "      <td>2670</td>\n",
       "      <td>both</td>\n",
       "    </tr>\n",
       "    <tr>\n",
       "      <th>1</th>\n",
       "      <td>1991-07-04</td>\n",
       "      <td>1.6295</td>\n",
       "      <td>1.6429</td>\n",
       "      <td>1.5268</td>\n",
       "      <td>1.6295</td>\n",
       "      <td>8289000000</td>\n",
       "      <td>80.5</td>\n",
       "      <td>87.5</td>\n",
       "      <td>80.5</td>\n",
       "      <td>87.5</td>\n",
       "      <td>1880</td>\n",
       "      <td>both</td>\n",
       "    </tr>\n",
       "    <tr>\n",
       "      <th>2</th>\n",
       "      <td>1991-07-08</td>\n",
       "      <td>1.6741</td>\n",
       "      <td>1.7232</td>\n",
       "      <td>1.6607</td>\n",
       "      <td>1.6741</td>\n",
       "      <td>5661000000</td>\n",
       "      <td>83.0</td>\n",
       "      <td>86.0</td>\n",
       "      <td>82.0</td>\n",
       "      <td>82.0</td>\n",
       "      <td>1018</td>\n",
       "      <td>both</td>\n",
       "    </tr>\n",
       "    <tr>\n",
       "      <th>3</th>\n",
       "      <td>1991-07-09</td>\n",
       "      <td>1.6875</td>\n",
       "      <td>1.7232</td>\n",
       "      <td>1.6696</td>\n",
       "      <td>1.6875</td>\n",
       "      <td>3914000000</td>\n",
       "      <td>83.0</td>\n",
       "      <td>83.5</td>\n",
       "      <td>80.5</td>\n",
       "      <td>82.0</td>\n",
       "      <td>675</td>\n",
       "      <td>both</td>\n",
       "    </tr>\n",
       "    <tr>\n",
       "      <th>4</th>\n",
       "      <td>1991-07-10</td>\n",
       "      <td>1.6696</td>\n",
       "      <td>1.6875</td>\n",
       "      <td>1.6429</td>\n",
       "      <td>1.6696</td>\n",
       "      <td>3648000000</td>\n",
       "      <td>83.5</td>\n",
       "      <td>84.0</td>\n",
       "      <td>82.0</td>\n",
       "      <td>84.0</td>\n",
       "      <td>690</td>\n",
       "      <td>both</td>\n",
       "    </tr>\n",
       "  </tbody>\n",
       "</table>\n",
       "</div>"
      ],
      "text/plain": [
       "        Date  Open_A  High_A   Low_A  Close_A    Volume_A  Open_F  High_F  \\\n",
       "0 1991-07-02  1.5402  1.5536  1.4911   1.5402  7619000000    89.0    89.0   \n",
       "1 1991-07-04  1.6295  1.6429  1.5268   1.6295  8289000000    80.5    87.5   \n",
       "2 1991-07-08  1.6741  1.7232  1.6607   1.6741  5661000000    83.0    86.0   \n",
       "3 1991-07-09  1.6875  1.7232  1.6696   1.6875  3914000000    83.0    83.5   \n",
       "4 1991-07-10  1.6696  1.6875  1.6429   1.6696  3648000000    83.5    84.0   \n",
       "\n",
       "   Low_F  Close_F  Volume_F _merge  \n",
       "0   82.5     82.5      2670   both  \n",
       "1   80.5     87.5      1880   both  \n",
       "2   82.0     82.0      1018   both  \n",
       "3   80.5     82.0       675   both  \n",
       "4   82.0     84.0       690   both  "
      ]
     },
     "execution_count": 5,
     "metadata": {},
     "output_type": "execute_result"
    }
   ],
   "source": [
    "from datetime import datetime, timedelta\n",
    "\n",
    "# Minus Apple stock datetime one day\n",
    "apple['Date'] = apple['Date'] - timedelta(days=1)\n",
    " \n",
    "# Choose the same period with foxconn\n",
    "start_date = foxconn.iloc[0, 0]\n",
    "end_date = foxconn.iloc[-1, 0]\n",
    "\n",
    "mask = (apple['Date'] >= start_date) & (apple['Date'] <= end_date)\n",
    "apple = apple.loc[mask]\n",
    "\n",
    "stock = pd.merge(apple, foxconn, on = 'Date', how = 'inner', indicator = True)\n",
    "print(\"Stock size after merge : \", stock.shape)\n",
    "stock.head()"
   ]
  },
  {
   "cell_type": "code",
   "execution_count": 6,
   "metadata": {},
   "outputs": [
    {
     "data": {
      "text/html": [
       "<div>\n",
       "<style>\n",
       "    .dataframe thead tr:only-child th {\n",
       "        text-align: right;\n",
       "    }\n",
       "\n",
       "    .dataframe thead th {\n",
       "        text-align: left;\n",
       "    }\n",
       "\n",
       "    .dataframe tbody tr th {\n",
       "        vertical-align: top;\n",
       "    }\n",
       "</style>\n",
       "<table border=\"1\" class=\"dataframe\">\n",
       "  <thead>\n",
       "    <tr style=\"text-align: right;\">\n",
       "      <th></th>\n",
       "      <th>Open_A</th>\n",
       "      <th>High_A</th>\n",
       "      <th>Low_A</th>\n",
       "      <th>Close_A</th>\n",
       "      <th>Close_F</th>\n",
       "    </tr>\n",
       "  </thead>\n",
       "  <tbody>\n",
       "    <tr>\n",
       "      <th>0</th>\n",
       "      <td>1.5402</td>\n",
       "      <td>1.5536</td>\n",
       "      <td>1.4911</td>\n",
       "      <td>1.5402</td>\n",
       "      <td>82.5</td>\n",
       "    </tr>\n",
       "    <tr>\n",
       "      <th>1</th>\n",
       "      <td>1.6295</td>\n",
       "      <td>1.6429</td>\n",
       "      <td>1.5268</td>\n",
       "      <td>1.6295</td>\n",
       "      <td>87.5</td>\n",
       "    </tr>\n",
       "    <tr>\n",
       "      <th>2</th>\n",
       "      <td>1.6741</td>\n",
       "      <td>1.7232</td>\n",
       "      <td>1.6607</td>\n",
       "      <td>1.6741</td>\n",
       "      <td>82.0</td>\n",
       "    </tr>\n",
       "    <tr>\n",
       "      <th>3</th>\n",
       "      <td>1.6875</td>\n",
       "      <td>1.7232</td>\n",
       "      <td>1.6696</td>\n",
       "      <td>1.6875</td>\n",
       "      <td>82.0</td>\n",
       "    </tr>\n",
       "    <tr>\n",
       "      <th>4</th>\n",
       "      <td>1.6696</td>\n",
       "      <td>1.6875</td>\n",
       "      <td>1.6429</td>\n",
       "      <td>1.6696</td>\n",
       "      <td>84.0</td>\n",
       "    </tr>\n",
       "  </tbody>\n",
       "</table>\n",
       "</div>"
      ],
      "text/plain": [
       "   Open_A  High_A   Low_A  Close_A  Close_F\n",
       "0  1.5402  1.5536  1.4911   1.5402     82.5\n",
       "1  1.6295  1.6429  1.5268   1.6295     87.5\n",
       "2  1.6741  1.7232  1.6607   1.6741     82.0\n",
       "3  1.6875  1.7232  1.6696   1.6875     82.0\n",
       "4  1.6696  1.6875  1.6429   1.6696     84.0"
      ]
     },
     "execution_count": 6,
     "metadata": {},
     "output_type": "execute_result"
    }
   ],
   "source": [
    "stock_final = stock.iloc[:, np.r_[1:5, 9]]\n",
    "stock_final.head()"
   ]
  },
  {
   "cell_type": "markdown",
   "metadata": {},
   "source": [
    "### 1.4 Split the Training and Test dataset"
   ]
  },
  {
   "cell_type": "code",
   "execution_count": 7,
   "metadata": {},
   "outputs": [
    {
     "name": "stdout",
     "output_type": "stream",
     "text": [
      "X_train Shape :  (3994, 4) , X_test Shape :  (999, 4)\n"
     ]
    }
   ],
   "source": [
    "from sklearn.model_selection import train_test_split\n",
    "\n",
    "X_train, X_test, y_train, y_test = train_test_split(stock_final.iloc[:, :-1], stock_final.iloc[:, -1],\n",
    "                                                    test_size = 0.2, random_state = 10)\n",
    "print(\"X_train Shape : \", X_train.shape, \", X_test Shape : \", X_test.shape)"
   ]
  },
  {
   "cell_type": "markdown",
   "metadata": {},
   "source": [
    "## 2. Model Construction\n",
    "### 2.1 Linear Regression Pipeline\n",
    "- In the first trial, we achieved **MSE score 3190.565 as Baseline Benchmark**.\n",
    "- Proposed further advanced techniques to see whether enhance the performance metrics or not."
   ]
  },
  {
   "cell_type": "code",
   "execution_count": 8,
   "metadata": {},
   "outputs": [
    {
     "name": "stderr",
     "output_type": "stream",
     "text": [
      "/Users/kennyhsieh/anaconda3/lib/python3.6/site-packages/sklearn/cross_validation.py:41: DeprecationWarning: This module was deprecated in version 0.18 in favor of the model_selection module into which all the refactored classes and functions are moved. Also note that the interface of the new CV iterators are different from that of this module. This module will be removed in 0.20.\n",
      "  \"This module will be removed in 0.20.\", DeprecationWarning)\n"
     ]
    },
    {
     "name": "stdout",
     "output_type": "stream",
     "text": [
      "CV MSE Scores : 3190.565 +/- 307.050\n",
      "Test MSE 3060.323\n"
     ]
    }
   ],
   "source": [
    "from sklearn.preprocessing import StandardScaler\n",
    "from sklearn.linear_model import LinearRegression\n",
    "from sklearn.pipeline import Pipeline\n",
    "from sklearn.cross_validation import cross_val_score\n",
    "from sklearn.metrics import mean_squared_error\n",
    "\n",
    "pipe_lr = Pipeline([('scl', StandardScaler()),\n",
    "                    ('reg', LinearRegression())])\n",
    "pipe_lr.fit(X_train, y_train)\n",
    "\n",
    "score_mse_lr = cross_val_score(estimator = pipe_lr,\n",
    "                               X = X_train,\n",
    "                               y = y_train,\n",
    "                               cv = 10,\n",
    "                               scoring = \"neg_mean_squared_error\",\n",
    "                               n_jobs = -1)\n",
    "predict_lr = pipe_lr.predict(X_test)\n",
    "\n",
    "print(\"CV MSE Scores : %.3f +/- %.3f\" %(np.negative(np.mean(score_mse_lr)), np.std(score_mse_lr)))\n",
    "print(\"Test MSE %.3f\" %mean_squared_error(y_test, predict_lr))"
   ]
  },
  {
   "cell_type": "markdown",
   "metadata": {},
   "source": [
    "## 3. Feature Engineering\n",
    "### 3.1 Create Gap Ratio in Single Day Feature\n",
    "$$Gap \\;Ratio = \\frac{Close\\; - \\; Open}{Close}$$"
   ]
  },
  {
   "cell_type": "code",
   "execution_count": 9,
   "metadata": {},
   "outputs": [
    {
     "data": {
      "text/html": [
       "<div>\n",
       "<style>\n",
       "    .dataframe thead tr:only-child th {\n",
       "        text-align: right;\n",
       "    }\n",
       "\n",
       "    .dataframe thead th {\n",
       "        text-align: left;\n",
       "    }\n",
       "\n",
       "    .dataframe tbody tr th {\n",
       "        vertical-align: top;\n",
       "    }\n",
       "</style>\n",
       "<table border=\"1\" class=\"dataframe\">\n",
       "  <thead>\n",
       "    <tr style=\"text-align: right;\">\n",
       "      <th></th>\n",
       "      <th>Open_A</th>\n",
       "      <th>High_A</th>\n",
       "      <th>Low_A</th>\n",
       "      <th>Close_A</th>\n",
       "      <th>Close_F</th>\n",
       "      <th>GapRation</th>\n",
       "    </tr>\n",
       "  </thead>\n",
       "  <tbody>\n",
       "    <tr>\n",
       "      <th>0</th>\n",
       "      <td>1.5402</td>\n",
       "      <td>1.5536</td>\n",
       "      <td>1.4911</td>\n",
       "      <td>1.5402</td>\n",
       "      <td>82.5</td>\n",
       "      <td>0.0</td>\n",
       "    </tr>\n",
       "    <tr>\n",
       "      <th>1</th>\n",
       "      <td>1.6295</td>\n",
       "      <td>1.6429</td>\n",
       "      <td>1.5268</td>\n",
       "      <td>1.6295</td>\n",
       "      <td>87.5</td>\n",
       "      <td>0.0</td>\n",
       "    </tr>\n",
       "    <tr>\n",
       "      <th>2</th>\n",
       "      <td>1.6741</td>\n",
       "      <td>1.7232</td>\n",
       "      <td>1.6607</td>\n",
       "      <td>1.6741</td>\n",
       "      <td>82.0</td>\n",
       "      <td>0.0</td>\n",
       "    </tr>\n",
       "    <tr>\n",
       "      <th>3</th>\n",
       "      <td>1.6875</td>\n",
       "      <td>1.7232</td>\n",
       "      <td>1.6696</td>\n",
       "      <td>1.6875</td>\n",
       "      <td>82.0</td>\n",
       "      <td>0.0</td>\n",
       "    </tr>\n",
       "    <tr>\n",
       "      <th>4</th>\n",
       "      <td>1.6696</td>\n",
       "      <td>1.6875</td>\n",
       "      <td>1.6429</td>\n",
       "      <td>1.6696</td>\n",
       "      <td>84.0</td>\n",
       "      <td>0.0</td>\n",
       "    </tr>\n",
       "  </tbody>\n",
       "</table>\n",
       "</div>"
      ],
      "text/plain": [
       "   Open_A  High_A   Low_A  Close_A  Close_F  GapRation\n",
       "0  1.5402  1.5536  1.4911   1.5402     82.5        0.0\n",
       "1  1.6295  1.6429  1.5268   1.6295     87.5        0.0\n",
       "2  1.6741  1.7232  1.6607   1.6741     82.0        0.0\n",
       "3  1.6875  1.7232  1.6696   1.6875     82.0        0.0\n",
       "4  1.6696  1.6875  1.6429   1.6696     84.0        0.0"
      ]
     },
     "execution_count": 9,
     "metadata": {},
     "output_type": "execute_result"
    }
   ],
   "source": [
    "# Gap Ratio\n",
    "stock_final.loc[:, \"GapRation\"] = (stock_final.Close_A - stock_final.Open_A)/stock_final.Close_A\n",
    "stock_final.head()"
   ]
  },
  {
   "cell_type": "markdown",
   "metadata": {},
   "source": [
    "### 3.2 Create Return Feature\n",
    "$$Return = \\ln(\\frac{Close_{t}}{Close_{t-1}})$$"
   ]
  },
  {
   "cell_type": "code",
   "execution_count": 10,
   "metadata": {},
   "outputs": [
    {
     "data": {
      "text/html": [
       "<div>\n",
       "<style>\n",
       "    .dataframe thead tr:only-child th {\n",
       "        text-align: right;\n",
       "    }\n",
       "\n",
       "    .dataframe thead th {\n",
       "        text-align: left;\n",
       "    }\n",
       "\n",
       "    .dataframe tbody tr th {\n",
       "        vertical-align: top;\n",
       "    }\n",
       "</style>\n",
       "<table border=\"1\" class=\"dataframe\">\n",
       "  <thead>\n",
       "    <tr style=\"text-align: right;\">\n",
       "      <th></th>\n",
       "      <th>Open_A</th>\n",
       "      <th>High_A</th>\n",
       "      <th>Low_A</th>\n",
       "      <th>Close_A</th>\n",
       "      <th>GapRation</th>\n",
       "      <th>Return</th>\n",
       "      <th>Close_F</th>\n",
       "    </tr>\n",
       "  </thead>\n",
       "  <tbody>\n",
       "    <tr>\n",
       "      <th>1</th>\n",
       "      <td>1.6295</td>\n",
       "      <td>1.6429</td>\n",
       "      <td>1.5268</td>\n",
       "      <td>1.6295</td>\n",
       "      <td>0.0</td>\n",
       "      <td>-0.056361</td>\n",
       "      <td>87.5</td>\n",
       "    </tr>\n",
       "    <tr>\n",
       "      <th>2</th>\n",
       "      <td>1.6741</td>\n",
       "      <td>1.7232</td>\n",
       "      <td>1.6607</td>\n",
       "      <td>1.6741</td>\n",
       "      <td>0.0</td>\n",
       "      <td>-0.027002</td>\n",
       "      <td>82.0</td>\n",
       "    </tr>\n",
       "    <tr>\n",
       "      <th>3</th>\n",
       "      <td>1.6875</td>\n",
       "      <td>1.7232</td>\n",
       "      <td>1.6696</td>\n",
       "      <td>1.6875</td>\n",
       "      <td>0.0</td>\n",
       "      <td>-0.007972</td>\n",
       "      <td>82.0</td>\n",
       "    </tr>\n",
       "    <tr>\n",
       "      <th>4</th>\n",
       "      <td>1.6696</td>\n",
       "      <td>1.6875</td>\n",
       "      <td>1.6429</td>\n",
       "      <td>1.6696</td>\n",
       "      <td>0.0</td>\n",
       "      <td>0.010664</td>\n",
       "      <td>84.0</td>\n",
       "    </tr>\n",
       "    <tr>\n",
       "      <th>5</th>\n",
       "      <td>1.6696</td>\n",
       "      <td>1.6875</td>\n",
       "      <td>1.6518</td>\n",
       "      <td>1.6696</td>\n",
       "      <td>0.0</td>\n",
       "      <td>0.000000</td>\n",
       "      <td>82.0</td>\n",
       "    </tr>\n",
       "  </tbody>\n",
       "</table>\n",
       "</div>"
      ],
      "text/plain": [
       "   Open_A  High_A   Low_A  Close_A  GapRation    Return  Close_F\n",
       "1  1.6295  1.6429  1.5268   1.6295        0.0 -0.056361     87.5\n",
       "2  1.6741  1.7232  1.6607   1.6741        0.0 -0.027002     82.0\n",
       "3  1.6875  1.7232  1.6696   1.6875        0.0 -0.007972     82.0\n",
       "4  1.6696  1.6875  1.6429   1.6696        0.0  0.010664     84.0\n",
       "5  1.6696  1.6875  1.6518   1.6696        0.0  0.000000     82.0"
      ]
     },
     "execution_count": 10,
     "metadata": {},
     "output_type": "execute_result"
    }
   ],
   "source": [
    "# Return\n",
    "return_list = []\n",
    "\n",
    "for i in range(stock_final.shape[0]-1):\n",
    "    ret = np.log(stock_final.iloc[i, 3] / stock_final.iloc[i+1, 3])\n",
    "    return_list.append(ret)\n",
    "\n",
    "## Delete the fist row that can't calculate Return\n",
    "stock_final = stock_final.iloc[1:, :]\n",
    "stock_final[\"Return\"] = return_list\n",
    "\n",
    "## Alter the column order\n",
    "cols = stock_final.columns.tolist()\n",
    "cols = cols[:4] + cols[5:] + cols[4:5]\n",
    "stock_final = stock_final[cols]\n",
    "stock_final.head()"
   ]
  },
  {
   "cell_type": "markdown",
   "metadata": {},
   "source": [
    "### 3.3 Split the new dataset after feature engineering"
   ]
  },
  {
   "cell_type": "code",
   "execution_count": 11,
   "metadata": {},
   "outputs": [
    {
     "name": "stdout",
     "output_type": "stream",
     "text": [
      "X_train Shape :  (3993, 6) , X_test Shape :  (999, 6)\n"
     ]
    }
   ],
   "source": [
    "from sklearn.model_selection import train_test_split\n",
    "\n",
    "X_train, X_test, y_train, y_test = train_test_split(stock_final.iloc[:, :-1], stock_final.iloc[:, -1],\n",
    "                                                    test_size = 0.2, random_state = 10)\n",
    "print(\"X_train Shape : \", X_train.shape, \", X_test Shape : \", X_test.shape)"
   ]
  },
  {
   "cell_type": "markdown",
   "metadata": {},
   "source": [
    "## 4. More Robust Model Construction\n",
    "- Compare with original Linear Regression to observe whether feature engineering is useful.\n",
    "- Construct with ensemble method model, i.e. Random Forest\n",
    "\n",
    "### 4.1 The Effort of Feature Engineering\n",
    "- Slight improvement on Test MSE, thus feature engineering do work!"
   ]
  },
  {
   "cell_type": "code",
   "execution_count": 12,
   "metadata": {},
   "outputs": [
    {
     "name": "stdout",
     "output_type": "stream",
     "text": [
      "CV MSE Scores : 3210.573 +/- 234.080\n",
      "Test MSE Scores : 2992.890\n"
     ]
    }
   ],
   "source": [
    "pipe_lr.fit(X_train, y_train)\n",
    "\n",
    "score_mse_lr = cross_val_score(estimator = pipe_lr,\n",
    "                               X = X_train,\n",
    "                               y = y_train,\n",
    "                               cv = 10,\n",
    "                               scoring = \"neg_mean_squared_error\",\n",
    "                               n_jobs = -1)\n",
    "\n",
    "predict_lr_fe = pipe_lr.predict(X_test)\n",
    "\n",
    "print(\"CV MSE Scores : %.3f +/- %.3f\" %(np.negative(np.mean(score_mse_lr)), np.std(score_mse_lr)))\n",
    "print(\"Test MSE Scores : %.3f\" %mean_squared_error(y_test, predict_lr_fe))"
   ]
  },
  {
   "cell_type": "markdown",
   "metadata": {},
   "source": [
    "### 4.2 Ensemble Method : Random Forest\n",
    "- Significant improvement !!!"
   ]
  },
  {
   "cell_type": "code",
   "execution_count": 13,
   "metadata": {},
   "outputs": [
    {
     "name": "stdout",
     "output_type": "stream",
     "text": [
      "CV MSE Scores : 2039.792 +/- 224.142\n",
      "Test MSE Scores : 1658.978\n"
     ]
    }
   ],
   "source": [
    "from sklearn.ensemble import RandomForestRegressor\n",
    "\n",
    "pipe_rf = Pipeline([('scl', StandardScaler()),\n",
    "                    ('reg', RandomForestRegressor(n_estimators = 500, random_state = 10))])\n",
    "pipe_rf.fit(X_train, y_train)\n",
    "\n",
    "score_mse_rf = cross_val_score(estimator = pipe_rf,\n",
    "                               X = X_train,\n",
    "                               y = y_train,\n",
    "                               cv = 10,\n",
    "                               scoring = \"neg_mean_squared_error\",\n",
    "                               n_jobs = -1)\n",
    "\n",
    "predict_rf = pipe_rf.predict(X_test)\n",
    "\n",
    "print(\"CV MSE Scores : %.3f +/- %.3f\" %(np.negative(np.mean(score_mse_rf)), np.std(score_mse_rf)))\n",
    "print(\"Test MSE Scores : %.3f\" %mean_squared_error(y_test, predict_rf))"
   ]
  },
  {
   "cell_type": "code",
   "execution_count": 14,
   "metadata": {},
   "outputs": [
    {
     "data": {
      "image/png": "[encoded data removed]",
      "text/plain": [
       "<matplotlib.figure.Figure at 0x1a18fc9e80>"
      ]
     },
     "metadata": {},
     "output_type": "display_data"
    }
   ],
   "source": [
    "imp_features = pd.Series(pipe_rf.steps[1][1].feature_importances_, index=X_train.columns).sort_values(ascending=False)\n",
    "imp_features.plot(kind='bar', title='Feature Importance with Random Forest', figsize=(12,8))\n",
    "plt.ylabel('Feature Importance Values')\n",
    "plt.subplots_adjust(bottom=0.25)\n",
    "plt.show()"
   ]
  },
  {
   "cell_type": "markdown",
   "metadata": {},
   "source": [
    "## 5. Conslusion\n",
    "- Observe the prediction made by each model"
   ]
  },
  {
   "cell_type": "code",
   "execution_count": 38,
   "metadata": {},
   "outputs": [
    {
     "data": {
      "text/plain": [
       "<matplotlib.legend.Legend at 0x1a217a05c0>"
      ]
     },
     "execution_count": 38,
     "metadata": {},
     "output_type": "execute_result"
    },
    {
     "data": {
      "image/png": "[encoded data removed]",
      "text/plain": [
       "<matplotlib.figure.Figure at 0x1a218911d0>"
      ]
     },
     "metadata": {},
     "output_type": "display_data"
    }
   ],
   "source": [
    "range_num = 5\n",
    "\n",
    "plt.plot(y_test.values[:range_num], color = '#6dc9dd', label = \"Actual\")\n",
    "plt.plot(predict_lr[:range_num], color = '#c2df55', label = 'Linear Regression')\n",
    "plt.plot(predict_lr_fe[:range_num], color = '#7741f4', label = 'Linear Regression with FE')\n",
    "plt.plot(predict_rf[:range_num], color = '#ff6347', label = \"Random Forest\")\n",
    "\n",
    "plt.legend()"
   ]
  },
  {
   "cell_type": "markdown",
   "metadata": {},
   "source": [
    "### * Appedix : Mismatch Date Observation"
   ]
  },
  {
   "cell_type": "code",
   "execution_count": 16,
   "metadata": {},
   "outputs": [
    {
     "data": {
      "text/plain": [
       "both          4993\n",
       "right_only    1758\n",
       "left_only     1555\n",
       "Name: _merge, dtype: int64"
      ]
     },
     "execution_count": 16,
     "metadata": {},
     "output_type": "execute_result"
    }
   ],
   "source": [
    "total = pd.merge(apple, foxconn, on = 'Date', how = 'outer', indicator = True)\n",
    "total['_merge'].value_counts()"
   ]
  },
  {
   "cell_type": "code",
   "execution_count": 17,
   "metadata": {},
   "outputs": [
    {
     "data": {
      "image/png": "[encoded data removed]",
      "text/plain": [
       "<matplotlib.figure.Figure at 0x1a0a4ee2b0>"
      ]
     },
     "metadata": {},
     "output_type": "display_data"
    }
   ],
   "source": [
    "diff_time = total.query('_merge != \"both\"')\n",
    "diff_time['month'] = diff_time.loc[:, 'Date'].dt.month\n",
    "\n",
    "sns.set(style=\"darkgrid\")\n",
    "ax = sns.countplot(x=\"month\", data=diff_time).set_title('Missing Date by Month')"
   ]
  }
 ],
 "metadata": {
  "kernelspec": {
   "display_name": "Python 3",
   "language": "python",
   "name": "python3"
  },
  "language_info": {
   "codemirror_mode": {
    "name": "ipython",
    "version": 3
   },
   "file_extension": ".py",
   "mimetype": "text/x-python",
   "name": "python",
   "nbconvert_exporter": "python",
   "pygments_lexer": "ipython3",
   "version": "3.6.4"
  }
 },
 "nbformat": 4,
 "nbformat_minor": 2
}
