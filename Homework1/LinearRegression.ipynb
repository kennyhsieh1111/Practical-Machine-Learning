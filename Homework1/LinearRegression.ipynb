{
 "cells": [
  {
   "cell_type": "markdown",
   "metadata": {},
   "source": [
    "Boston House Price Regression Practice\n",
    "===\n",
    "B036060017 資管四年級 謝威廷, 2018/3/25\n",
    "\n",
    "## Import the dataset\n",
    "- Fetch the Boston House Price dataset provided by scikit learn"
   ]
  },
  {
   "cell_type": "code",
   "execution_count": 1,
   "metadata": {},
   "outputs": [
    {
     "data": {
      "text/html": [
       "<div>\n",
       "<style>\n",
       "    .dataframe thead tr:only-child th {\n",
       "        text-align: right;\n",
       "    }\n",
       "\n",
       "    .dataframe thead th {\n",
       "        text-align: left;\n",
       "    }\n",
       "\n",
       "    .dataframe tbody tr th {\n",
       "        vertical-align: top;\n",
       "    }\n",
       "</style>\n",
       "<table border=\"1\" class=\"dataframe\">\n",
       "  <thead>\n",
       "    <tr style=\"text-align: right;\">\n",
       "      <th></th>\n",
       "      <th>CRIM</th>\n",
       "      <th>ZN</th>\n",
       "      <th>INDUS</th>\n",
       "      <th>CHAS</th>\n",
       "      <th>NOX</th>\n",
       "      <th>RM</th>\n",
       "      <th>AGE</th>\n",
       "      <th>DIS</th>\n",
       "      <th>RAD</th>\n",
       "      <th>TAX</th>\n",
       "      <th>PTRATIO</th>\n",
       "      <th>B</th>\n",
       "      <th>LSTAT</th>\n",
       "      <th>target</th>\n",
       "    </tr>\n",
       "  </thead>\n",
       "  <tbody>\n",
       "    <tr>\n",
       "      <th>0</th>\n",
       "      <td>0.00632</td>\n",
       "      <td>18.0</td>\n",
       "      <td>2.31</td>\n",
       "      <td>0.0</td>\n",
       "      <td>0.538</td>\n",
       "      <td>6.575</td>\n",
       "      <td>65.2</td>\n",
       "      <td>4.0900</td>\n",
       "      <td>1.0</td>\n",
       "      <td>296.0</td>\n",
       "      <td>15.3</td>\n",
       "      <td>396.90</td>\n",
       "      <td>4.98</td>\n",
       "      <td>24.0</td>\n",
       "    </tr>\n",
       "    <tr>\n",
       "      <th>1</th>\n",
       "      <td>0.02731</td>\n",
       "      <td>0.0</td>\n",
       "      <td>7.07</td>\n",
       "      <td>0.0</td>\n",
       "      <td>0.469</td>\n",
       "      <td>6.421</td>\n",
       "      <td>78.9</td>\n",
       "      <td>4.9671</td>\n",
       "      <td>2.0</td>\n",
       "      <td>242.0</td>\n",
       "      <td>17.8</td>\n",
       "      <td>396.90</td>\n",
       "      <td>9.14</td>\n",
       "      <td>21.6</td>\n",
       "    </tr>\n",
       "    <tr>\n",
       "      <th>2</th>\n",
       "      <td>0.02729</td>\n",
       "      <td>0.0</td>\n",
       "      <td>7.07</td>\n",
       "      <td>0.0</td>\n",
       "      <td>0.469</td>\n",
       "      <td>7.185</td>\n",
       "      <td>61.1</td>\n",
       "      <td>4.9671</td>\n",
       "      <td>2.0</td>\n",
       "      <td>242.0</td>\n",
       "      <td>17.8</td>\n",
       "      <td>392.83</td>\n",
       "      <td>4.03</td>\n",
       "      <td>34.7</td>\n",
       "    </tr>\n",
       "    <tr>\n",
       "      <th>3</th>\n",
       "      <td>0.03237</td>\n",
       "      <td>0.0</td>\n",
       "      <td>2.18</td>\n",
       "      <td>0.0</td>\n",
       "      <td>0.458</td>\n",
       "      <td>6.998</td>\n",
       "      <td>45.8</td>\n",
       "      <td>6.0622</td>\n",
       "      <td>3.0</td>\n",
       "      <td>222.0</td>\n",
       "      <td>18.7</td>\n",
       "      <td>394.63</td>\n",
       "      <td>2.94</td>\n",
       "      <td>33.4</td>\n",
       "    </tr>\n",
       "    <tr>\n",
       "      <th>4</th>\n",
       "      <td>0.06905</td>\n",
       "      <td>0.0</td>\n",
       "      <td>2.18</td>\n",
       "      <td>0.0</td>\n",
       "      <td>0.458</td>\n",
       "      <td>7.147</td>\n",
       "      <td>54.2</td>\n",
       "      <td>6.0622</td>\n",
       "      <td>3.0</td>\n",
       "      <td>222.0</td>\n",
       "      <td>18.7</td>\n",
       "      <td>396.90</td>\n",
       "      <td>5.33</td>\n",
       "      <td>36.2</td>\n",
       "    </tr>\n",
       "  </tbody>\n",
       "</table>\n",
       "</div>"
      ],
      "text/plain": [
       "      CRIM    ZN  INDUS  CHAS    NOX     RM   AGE     DIS  RAD    TAX  \\\n",
       "0  0.00632  18.0   2.31   0.0  0.538  6.575  65.2  4.0900  1.0  296.0   \n",
       "1  0.02731   0.0   7.07   0.0  0.469  6.421  78.9  4.9671  2.0  242.0   \n",
       "2  0.02729   0.0   7.07   0.0  0.469  7.185  61.1  4.9671  2.0  242.0   \n",
       "3  0.03237   0.0   2.18   0.0  0.458  6.998  45.8  6.0622  3.0  222.0   \n",
       "4  0.06905   0.0   2.18   0.0  0.458  7.147  54.2  6.0622  3.0  222.0   \n",
       "\n",
       "   PTRATIO       B  LSTAT  target  \n",
       "0     15.3  396.90   4.98    24.0  \n",
       "1     17.8  396.90   9.14    21.6  \n",
       "2     17.8  392.83   4.03    34.7  \n",
       "3     18.7  394.63   2.94    33.4  \n",
       "4     18.7  396.90   5.33    36.2  "
      ]
     },
     "execution_count": 1,
     "metadata": {},
     "output_type": "execute_result"
    }
   ],
   "source": [
    "import pandas as pd\n",
    "import numpy as np\n",
    "import matplotlib.pyplot as plt\n",
    "from sklearn.datasets import load_boston\n",
    "\n",
    "dataset = load_boston()\n",
    "boston = pd.DataFrame(dataset.data, columns = dataset.feature_names)\n",
    "boston['target'] = dataset.target\n",
    "\n",
    "boston.head()"
   ]
  },
  {
   "cell_type": "markdown",
   "metadata": {},
   "source": [
    "## Split the dataset to training set and test set"
   ]
  },
  {
   "cell_type": "code",
   "execution_count": 2,
   "metadata": {},
   "outputs": [
    {
     "name": "stdout",
     "output_type": "stream",
     "text": [
      "Training :  (350, 13)  Testing :  (156, 13)\n"
     ]
    }
   ],
   "source": [
    "from sklearn.model_selection import train_test_split\n",
    "\n",
    "X_train, X_test, y_train, y_test = train_test_split(boston.iloc[:, :-1], boston.iloc[:, -1], \n",
    "                                                    test_size = 156,\n",
    "                                                    random_state = 10,\n",
    "                                                    shuffle = True)\n",
    "\n",
    "print('Training : ', X_train.shape, ' Testing : ', X_test.shape)"
   ]
  },
  {
   "cell_type": "markdown",
   "metadata": {},
   "source": [
    "## Handcrafted - Ordinary Least Square Linear Regression (OLS)\n",
    "- $fit (X,y)$ : Fit linear model\n",
    "- $get\\_Params()$ : Get parameters for this estimator\n",
    "- $predict(X)$ : Predict using the linear model"
   ]
  },
  {
   "cell_type": "code",
   "execution_count": 173,
   "metadata": {
    "collapsed": true
   },
   "outputs": [],
   "source": [
    "class my_LR():\n",
    "    \n",
    "    def fit(self, X, y):\n",
    "        \"\"\"\n",
    "        Fit the linear model\n",
    "        \n",
    "        Parameters:\n",
    "        -----------\n",
    "        X : a numpy array of form [num_samples, num_features]\n",
    "        y : numpy array of form [num_samples, 1]\n",
    "        \n",
    "        \"\"\"\n",
    "        \n",
    "        Xn = np.ndarray.copy(X)\n",
    "        yn = np.ndarray.copy(y)\n",
    "\n",
    "        X_mean = Xn.mean(axis=0)\n",
    "        X_std = Xn.std(axis=0)\n",
    "        X_std[X_std == 0] = 1\n",
    "        self.X_mean = X_mean\n",
    "        self.X_std = X_std\n",
    "        \n",
    "        # Normalization\n",
    "        Xn = (Xn - X_mean) / X_std\n",
    "        Xn = np.hstack((np.ones(X.shape[0])[np.newaxis].T, Xn))\n",
    "        \n",
    "        y_mean = yn.mean(axis=0)\n",
    "        yn = yn - y_mean\n",
    "        self.y_mean = y_mean\n",
    "\n",
    "        # Return the least-squares solution to a linear matrix equation\n",
    "        try:\n",
    "            self.coef_, self.residuals_, self.rank_, self.singular_ = np.linalg.lstsq(Xn, yn)\n",
    "        except Exception:\n",
    "            print('Error occurred in Matrix operation.')\n",
    "            raise\n",
    "            \n",
    "    def get_Params(self):\n",
    "        \"\"\"\n",
    "        Return the regression coefficient for X\n",
    "        \"\"\"\n",
    "        return self.coef_\n",
    "    \n",
    "    def predict(self, X):\n",
    "        \"\"\"\n",
    "        Predict regression values for X\n",
    "        \"\"\"\n",
    "        \n",
    "        Xn = np.ndarray.copy(X)\n",
    "        Xn = (Xn - self.X_mean) / self.X_std\n",
    "        Xn = np.hstack((np.ones(X.shape[0])[np.newaxis].T, Xn))\n",
    "        \n",
    "        predict = np.dot(Xn, self.coef_) + self.y_mean\n",
    "        \n",
    "        return predict"
   ]
  },
  {
   "cell_type": "markdown",
   "metadata": {},
   "source": [
    "### Fit the dataset to myLR"
   ]
  },
  {
   "cell_type": "code",
   "execution_count": 174,
   "metadata": {},
   "outputs": [
    {
     "name": "stdout",
     "output_type": "stream",
     "text": [
      "[  2.44927579e-14  -1.25528883e+00   1.60363151e+00  -1.29013135e-01\n",
      "   3.81020979e-01  -1.76971793e+00   2.18611099e+00   3.06652188e-01\n",
      "  -3.28355631e+00   2.71359659e+00  -2.14597384e+00  -1.74635139e+00\n",
      "   1.24028529e+00  -3.84877355e+00]\n"
     ]
    }
   ],
   "source": [
    "mylr = my_LR()\n",
    "mylr.fit(X_train.values, y_train.values)\n",
    "\n",
    "print(mylr.get_Params())"
   ]
  },
  {
   "cell_type": "markdown",
   "metadata": {},
   "source": [
    "## (A) List the three most key features that affect the price of houses\n",
    "- Develop a Embedded Feature Selection method by using **Lasso Regression**\n",
    "- Lasso Regularization makes it easier for the coefficients to be zero, and therefore easier to eliminate some of input variable as not contributing to the output, rather than Ridge Regularization tends to keep all the features.\n",
    "- Last, the features selected by Lasso, could be seen as most key features among all features. \n",
    "\n",
    "<img src=\"https://i.imgur.com/13DcRYy.png\" alt=\"Drawing\" style=\"width: 400px;\"/>"
   ]
  },
  {
   "cell_type": "code",
   "execution_count": 175,
   "metadata": {},
   "outputs": [
    {
     "data": {
      "text/plain": [
       "SelectFromModel(estimator=LassoCV(alphas=None, copy_X=True, cv=None, eps=0.001, fit_intercept=True,\n",
       "    max_iter=1000, n_alphas=100, n_jobs=1, normalize=False, positive=False,\n",
       "    precompute='auto', random_state=None, selection='cyclic', tol=0.0001,\n",
       "    verbose=False),\n",
       "        norm_order=1, prefit=False, threshold=0.2)"
      ]
     },
     "execution_count": 175,
     "metadata": {},
     "output_type": "execute_result"
    }
   ],
   "source": [
    "from sklearn.feature_selection import SelectFromModel\n",
    "from sklearn.linear_model import LassoCV\n",
    "\n",
    "lassolr = LassoCV()\n",
    "lasso_feature = SelectFromModel(lassolr, threshold=0.2)\n",
    "lasso_feature.fit(X_train.values, y_train.values)"
   ]
  },
  {
   "cell_type": "markdown",
   "metadata": {},
   "source": [
    "### Setup the number of features \n",
    "- The **top 3 key features** selected by Lasso are\n",
    "    - RM : Average number of rooms per dwelling\n",
    "    - DIS : Weighted distances to five Boston employment centres\n",
    "    - LSTAT : % lower status of the population"
   ]
  },
  {
   "cell_type": "code",
   "execution_count": 191,
   "metadata": {},
   "outputs": [
    {
     "name": "stdout",
     "output_type": "stream",
     "text": [
      "Number of feature selected :  3\n",
      "Boston House Prices dataset\n",
      "===========================\n",
      "\n",
      "Notes\n",
      "------\n",
      "Data Set Characteristics:  \n",
      "\n",
      "    :Number of Instances: 506 \n",
      "\n",
      "    :Number of Attributes: 13 numeric/categorical predictive\n",
      "    \n",
      "    :Median Value (attribute 14) is usually the target\n",
      "\n",
      "    :Attribute Information (in order):\n",
      "        - CRIM     per capita crime rate by town\n",
      "        - ZN       proportion of residential land zoned for lots over 25,000 sq.ft.\n",
      "        - INDUS    proportion of non-retail business acres per town\n",
      "        - CHAS     Charles River dummy variable (= 1 if tract bounds river; 0 otherwise)\n",
      "        - NOX      nitric oxides concentration (parts per 10 million)\n",
      "        - RM       average number of rooms per dwelling\n",
      "        - AGE      proportion of owner-occupied units built prior to 1940\n",
      "        - DIS      weighted distances to five Boston employment centres\n",
      "        - RAD      index of accessibility to radial highways\n",
      "        - TAX      full-value property-tax rate per $10,000\n",
      "        - PTRATIO  pupil-teacher ratio by town\n",
      "        - B        1000(Bk - 0.63)^2 where Bk is the proportion of blacks by town\n",
      "        - LSTAT    % lower status of the population\n",
      "        - MEDV     Median value of owner-occupied homes in $1000's\n",
      "\n",
      "    :Missing Attribute Values: None\n",
      "\n",
      "    :Creator: Harrison, D. and Rubinfeld, D.L.\n",
      "\n",
      "This is a copy of UCI ML housing dataset.\n",
      "http://archive.ics.uci.edu/ml/datasets/Housing\n",
      "\n",
      "\n",
      "This dataset was taken from the StatLib library which is maintained at Carnegie Mellon University.\n",
      "\n",
      "The Boston house-price data of Harrison, D. and Rubinfeld, D.L. 'Hedonic\n",
      "prices and the demand for clean air', J. Environ. Economics & Management,\n",
      "vol.5, 81-102, 1978.   Used in Belsley, Kuh & Welsch, 'Regression diagnostics\n",
      "...', Wiley, 1980.   N.B. Various transformations are used in the table on\n",
      "pages 244-261 of the latter.\n",
      "\n",
      "The Boston house-price data has been used in many machine learning papers that address regression\n",
      "problems.   \n",
      "     \n",
      "**References**\n",
      "\n",
      "   - Belsley, Kuh & Welsch, 'Regression diagnostics: Identifying Influential Data and Sources of Collinearity', Wiley, 1980. 244-261.\n",
      "   - Quinlan,R. (1993). Combining Instance-Based and Model-Based Learning. In Proceedings on the Tenth International Conference of Machine Learning, 236-243, University of Massachusetts, Amherst. Morgan Kaufmann.\n",
      "   - many more! (see http://archive.ics.uci.edu/ml/datasets/Housing)\n",
      "\n",
      "Index(['RM', 'DIS', 'LSTAT'], dtype='object')\n"
     ]
    }
   ],
   "source": [
    "n_features = lasso_feature.transform(X_train.values).shape[1]\n",
    "while n_features > 3:\n",
    "    lasso_feature.threshold += 0.1\n",
    "    X_transform = lasso_feature.transform(X_train.values)\n",
    "    n_features = X_transform.shape[1]\n",
    "print(\"Number of feature selected : \", n_features)\n",
    "\n",
    "print(dataset.DESCR)\n",
    "print(boston.columns[:-1][lasso_feature.get_support()])"
   ]
  },
  {
   "cell_type": "markdown",
   "metadata": {},
   "source": [
    "## (B) Try sklearn - linear regression to estimate the price"
   ]
  },
  {
   "cell_type": "code",
   "execution_count": 195,
   "metadata": {},
   "outputs": [
    {
     "data": {
      "text/plain": [
       "array([ 31.4185429 ,  31.97039683,  30.98493102,  22.26928588,\n",
       "        18.90712841,  16.15892513,  35.89835849,  14.78538014,\n",
       "        25.10814431,  37.01575047])"
      ]
     },
     "execution_count": 195,
     "metadata": {},
     "output_type": "execute_result"
    }
   ],
   "source": [
    "from sklearn.linear_model import LinearRegression, Lasso\n",
    "\n",
    "sklr = LinearRegression()\n",
    "sklr.fit(X_train, y_train)\n",
    "sklr.predict(X_test.values)[:10]"
   ]
  },
  {
   "cell_type": "markdown",
   "metadata": {},
   "source": [
    "## (C) Plot your estimated price, the price obtained from sklearn module vs actual price\n",
    "- Due to there are 156 cases of test dataset, it's quite huge to plot all in one figure.\n",
    "- Thus, plot first 10 cases to observe, you can adjust  $plot\\_number$  to meet your own need.\n",
    "- According to the plot, it seems there is **no big difference in estimated price** between our own LR model and sklearn LR model."
   ]
  },
  {
   "cell_type": "code",
   "execution_count": 197,
   "metadata": {},
   "outputs": [
    {
     "data": {
      "image/png": "[encoded data removed]",
      "text/plain": [
       "<matplotlib.figure.Figure at 0x1a13dc56d8>"
      ]
     },
     "metadata": {},
     "output_type": "display_data"
    }
   ],
   "source": [
    "import matplotlib.pyplot as plt\n",
    "\n",
    "plot_num = 5\n",
    "\n",
    "idx = np.arange(1, actual_price.shape[0] + 1)[:plot_num]\n",
    "mylr_price = mylr.predict(X_test.values)[:plot_num]\n",
    "sklr_price = sklr.predict(X_test.values)[:plot_num]\n",
    "actual_price = y_test.values[:plot_num]\n",
    "\n",
    "width = 0.3\n",
    "\n",
    "fig = plt.figure()\n",
    "ax = fig.add_subplot(111)\n",
    "\n",
    "rects1 = ax.bar(idx, mylr_price, width, color='g')\n",
    "rects2 = ax.bar(idx + width, sklr_price, width, color='b')\n",
    "rects3 = ax.bar(idx + width*2, actual_price, width, color='r')\n",
    "\n",
    "ax.set_ylabel('Estimated Price')\n",
    "ax.set_xticks(idx + width)\n",
    "ax.set_xticklabels( ('1', '2', '3') )\n",
    "ax.legend((rects1[0], rects2[0], rects3[0]), ('mylr', 'sklr', 'actual'))\n",
    "\n",
    "plt.title('Boston House Pricing')\n",
    "plt.show()"
   ]
  },
  {
   "cell_type": "markdown",
   "metadata": {},
   "source": [
    "## (D) Try one different regression module provided by sklearn, and compare its result with ordinary linear regression approach.\n",
    "\n",
    "- Using the **Lasso Regression with Cross Validated**.\n",
    "- Proposed **MSE (Mean Squared Error)** to compare the prediction performance between LassoCV, and OLS.\n",
    "- Surprisingly, our own OLS model outperform the LassoCV !"
   ]
  },
  {
   "cell_type": "code",
   "execution_count": 189,
   "metadata": {},
   "outputs": [
    {
     "data": {
      "text/plain": [
       "LassoCV(alphas=None, copy_X=True, cv=None, eps=0.001, fit_intercept=True,\n",
       "    max_iter=1000, n_alphas=100, n_jobs=1, normalize=False, positive=False,\n",
       "    precompute='auto', random_state=None, selection='cyclic', tol=0.0001,\n",
       "    verbose=False)"
      ]
     },
     "execution_count": 189,
     "metadata": {},
     "output_type": "execute_result"
    }
   ],
   "source": [
    "from sklearn.linear_model import LassoCV\n",
    "sklassocv = LassoCV()\n",
    "sklassocv.fit(X_train, y_train)"
   ]
  },
  {
   "cell_type": "code",
   "execution_count": 190,
   "metadata": {},
   "outputs": [
    {
     "name": "stdout",
     "output_type": "stream",
     "text": [
      "28.7605019584\n",
      "35.6676265737\n"
     ]
    }
   ],
   "source": [
    "from sklearn.metrics import mean_squared_error\n",
    "\n",
    "mylr_mse = mean_squared_error(y_test.values, mylr.predict(X_test.values))\n",
    "print(mylr_mse)\n",
    "\n",
    "lassocv_mse = mean_squared_error(y_test.values, sklassocv.predict(X_test.values))\n",
    "print(lassocv_mse)"
   ]
  }
 ],
 "metadata": {
  "kernelspec": {
   "display_name": "Python 3",
   "language": "python",
   "name": "python3"
  },
  "language_info": {
   "codemirror_mode": {
    "name": "ipython",
    "version": 3
   },
   "file_extension": ".py",
   "mimetype": "text/x-python",
   "name": "python",
   "nbconvert_exporter": "python",
   "pygments_lexer": "ipython3",
   "version": "3.6.4"
  }
 },
 "nbformat": 4,
 "nbformat_minor": 2
}
